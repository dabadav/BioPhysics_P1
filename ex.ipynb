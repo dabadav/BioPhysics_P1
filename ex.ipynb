{
 "cells": [
  {
   "cell_type": "code",
   "execution_count": 1,
   "metadata": {},
   "outputs": [],
   "source": [
    "from Bio.PDB.PDBParser import PDBParser\n",
    "import numpy as np\n",
    "\n",
    "parser = PDBParser()\n",
    "st = parser.get_structure('1UBQ', '1ubq.pdb')\n",
    "\n",
    "#Selection of Residue 10 of Chain A\n",
    "res10 = st[0][\"A\"][10]\n",
    "#Selection of Residue 20 of Chain A\n",
    "res20 = st[0][\"A\"][20]"
   ]
  },
  {
   "cell_type": "code",
   "execution_count": 2,
   "metadata": {},
   "outputs": [
    {
     "name": "stdout",
     "output_type": "stream",
     "text": [
      "<Chain id=A>\n"
     ]
    }
   ],
   "source": [
    "for e in st:\n",
    "    print(e[\"A\"][10].get_resname())"
   ]
  },
  {
   "cell_type": "code",
   "execution_count": 3,
   "metadata": {},
   "outputs": [
    {
     "name": "stdout",
     "output_type": "stream",
     "text": [
      "Residue 10 is GLY\n",
      "Residue 20 is SER\n"
     ]
    }
   ],
   "source": [
    "print(\"Residue 10 is\", res10.get_resname())\n",
    "print(\"Residue 20 is\", res20.get_resname())"
   ]
  },
  {
   "cell_type": "code",
   "execution_count": 4,
   "metadata": {},
   "outputs": [
    {
     "name": "stdout",
     "output_type": "stream",
     "text": [
      "\n",
      "Atom1 Atom2 dist1 dist2\n",
      "-------------------------\n",
      "<Atom N> <Atom N> 26.841194 26.841194\n",
      "<Atom N> <Atom CA> 27.705828 27.705826\n",
      "<Atom N> <Atom C> 27.01152 27.011518\n",
      "<Atom N> <Atom O> 27.704405 27.704405\n",
      "<Atom N> <Atom CB> 28.923367 28.923365\n",
      "<Atom N> <Atom OG> 28.661741 28.661741\n",
      "<Atom CA> <Atom N> 26.76021 26.76021\n",
      "<Atom CA> <Atom CA> 27.68607 27.68607\n",
      "<Atom CA> <Atom C> 27.0538 27.0538\n",
      "<Atom CA> <Atom O> 27.799332 27.799332\n",
      "<Atom CA> <Atom CB> 28.883638 28.883638\n",
      "<Atom CA> <Atom OG> 28.57509 28.57509\n",
      "<Atom C> <Atom N> 26.097872 26.097872\n",
      "<Atom C> <Atom CA> 27.042477 27.042479\n",
      "<Atom C> <Atom C> 26.412207 26.412207\n",
      "<Atom C> <Atom O> 27.175257 27.175257\n",
      "<Atom C> <Atom CB> 28.193848 28.19385\n",
      "<Atom C> <Atom OG> 27.822264 27.822264\n",
      "<Atom O> <Atom N> 26.35525 26.35525\n",
      "<Atom O> <Atom CA> 27.34624 27.34624\n",
      "<Atom O> <Atom C> 26.76351 26.76351\n",
      "<Atom O> <Atom O> 27.56535 27.56535\n",
      "<Atom O> <Atom CB> 28.469149 28.469149\n",
      "<Atom O> <Atom OG> 28.049194 28.049194\n"
     ]
    }
   ],
   "source": [
    "print(\"\\nAtom1 Atom2 dist1 dist2\\n-------------------------\")\n",
    "for at10 in res10.get_atoms():      # Replace get_atoms with get_atom if you get an Error!\n",
    "    for at20 in res20.get_atoms():\n",
    "        dist = at20 - at10     # Direct procedure with (-) to compute distances\n",
    "        vector = at20.coord - at10.coord  # Or using numpy coordinates\n",
    "        distance = np.sqrt(np.sum(vector ** 2))\n",
    "        print(at10, at20, dist, distance)"
   ]
  },
  {
   "cell_type": "code",
   "execution_count": 5,
   "metadata": {},
   "outputs": [
    {
     "name": "stdout",
     "output_type": "stream",
     "text": [
      "\n",
      "Distance of res10 to [10 10 10] \n",
      "\n",
      "<Atom N> 39.46418688865108\n",
      "<Atom CA> 39.183283863832415\n",
      "<Atom C> 38.96855544105957\n",
      "<Atom O> 39.107196877658936\n"
     ]
    }
   ],
   "source": [
    "center = np.array([10, 10, 10])\n",
    "print(\"\\nDistance of res10 to {} \\n\".format(center))\n",
    "for at10 in res10.get_atoms():\n",
    "    vect = at10.coord - center\n",
    "    distance = np.sqrt(np.sum(vect ** 2))\n",
    "    print(at10, distance)"
   ]
  }
 ],
 "metadata": {
  "interpreter": {
   "hash": "840a6f1ed9dae39e0c2016cdd1aef42c8f78f1f8ba3c2d07875f63b52d74754b"
  },
  "kernelspec": {
   "display_name": "Python 3.9.0 64-bit",
   "name": "python3"
  },
  "language_info": {
   "codemirror_mode": {
    "name": "ipython",
    "version": 3
   },
   "file_extension": ".py",
   "mimetype": "text/x-python",
   "name": "python",
   "nbconvert_exporter": "python",
   "pygments_lexer": "ipython3",
   "version": "3.9.0"
  },
  "orig_nbformat": 4
 },
 "nbformat": 4,
 "nbformat_minor": 2
}
