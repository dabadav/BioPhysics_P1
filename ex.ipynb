{
 "cells": [
  {
   "cell_type": "markdown",
   "metadata": {},
   "source": [
    "Determine the list of pairs of residues whose CA atoms are closer than a given distance \n",
    "Parameters: PDB file name, distance."
   ]
  },
  {
   "cell_type": "code",
   "execution_count": 12,
   "metadata": {},
   "outputs": [],
   "source": [
    "from Bio.PDB.PDBParser import PDBParser\n",
    "import numpy as np\n",
    "\n",
    "parser = PDBParser()\n",
    "struct = parser.get_structure('1UBQ', '1ubq.pdb')\n",
    "\n",
    "model = struct[0]\n",
    "chain = model['A']"
   ]
  },
  {
   "cell_type": "code",
   "execution_count": 13,
   "metadata": {},
   "outputs": [
    {
     "name": "stdout",
     "output_type": "stream",
     "text": [
      "<Residue GLN het=  resseq=2 icode= > <Residue MET het=  resseq=1 icode= > 3.804452\n",
      "<Residue GLU het=  resseq=16 icode= > <Residue MET het=  resseq=1 icode= > 5.5057034\n",
      "<Residue VAL het=  resseq=17 icode= > <Residue MET het=  resseq=1 icode= > 5.363758\n",
      "<Residue GLU het=  resseq=18 icode= > <Residue MET het=  resseq=1 icode= > 5.8909736\n",
      "<Residue LYS het=  resseq=63 icode= > <Residue MET het=  resseq=1 icode= > 5.3906274\n"
     ]
    }
   ],
   "source": [
    "# this example uses only the first residue of a single chain.\n",
    "# it is easy to extend this to multiple chains and residues.\n",
    "for residue1 in chain:\n",
    "    for residue2 in chain:\n",
    "        if residue1 != residue2:\n",
    "            # compute distance between CA atoms\n",
    "            try:\n",
    "                distance = residue1['CA'] - residue2['CA']\n",
    "            except KeyError:\n",
    "                ## no CA atom, e.g. for H_NAG\n",
    "                continue\n",
    "            if distance < 6:\n",
    "                print(residue1, residue2, distance)\n",
    "        # stop after first residue\n",
    "        break"
   ]
  }
 ],
 "metadata": {
  "interpreter": {
   "hash": "840a6f1ed9dae39e0c2016cdd1aef42c8f78f1f8ba3c2d07875f63b52d74754b"
  },
  "kernelspec": {
   "display_name": "Python 3.9.0 64-bit",
   "name": "python3"
  },
  "language_info": {
   "codemirror_mode": {
    "name": "ipython",
    "version": 3
   },
   "file_extension": ".py",
   "mimetype": "text/x-python",
   "name": "python",
   "nbconvert_exporter": "python",
   "pygments_lexer": "ipython3",
   "version": "3.9.0"
  },
  "orig_nbformat": 4
 },
 "nbformat": 4,
 "nbformat_minor": 2
}
